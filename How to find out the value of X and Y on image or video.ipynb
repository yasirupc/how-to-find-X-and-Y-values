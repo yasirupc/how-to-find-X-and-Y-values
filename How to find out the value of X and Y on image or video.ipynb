{
 "cells": [
  {
   "cell_type": "code",
   "execution_count": 1,
   "id": "c13e5f77",
   "metadata": {},
   "outputs": [],
   "source": [
    "# Welcome back to my channel\n",
    "#if you are new to my channel please subsciebe to my channel to learn with me about data sciences\n",
    "# today i will teach you how to know the pixel values or coordinate on x, y on image\n",
    "# so lets continue "
   ]
  },
  {
   "cell_type": "code",
   "execution_count": 2,
   "id": "2a3b879f",
   "metadata": {},
   "outputs": [],
   "source": [
    "# step -01 import libraries\n",
    "import cv2 as cv\n",
    "import numpy as np\n"
   ]
  },
  {
   "cell_type": "code",
   "execution_count": 4,
   "id": "d3d0eb97",
   "metadata": {},
   "outputs": [],
   "source": [
    "# step -02, import your image or video\n",
    "img=cv.imread(\"C://Users//yasir//Desktop//Python//05.png\")\n",
    "#cv.imshow('image', img)\n",
    "#cv.waitKey(0)\n",
    "#cv.destroyAllWindows()"
   ]
  },
  {
   "cell_type": "code",
   "execution_count": 7,
   "id": "84f25611",
   "metadata": {},
   "outputs": [
    {
     "name": "stdout",
     "output_type": "stream",
     "text": [
      "377 , 313\n",
      "109 , 208\n",
      "86 , 417\n",
      "878 , 544\n",
      "804 , 243\n",
      "672 , 339\n",
      "762 , 458\n",
      "727 , 540\n",
      "854 , 638\n",
      "999 , 394\n",
      "925 , 184\n",
      "720 , 122\n",
      "580 , 170\n",
      "578 , 287\n",
      "638 , 370\n",
      "838 , 371\n",
      "1025 , 247\n",
      "1089 , 463\n",
      "37 , 595\n",
      "83 , 713\n",
      "154 , 760\n",
      "304 , 740\n",
      "346 , 561\n",
      "251 , 409\n",
      "193 , 296\n",
      "118 , 239\n",
      "46 , 166\n",
      "145 , 79\n",
      "339 , 85\n",
      "451 , 111\n",
      "438 , 165\n",
      "486 , 193\n",
      "647 , 195\n",
      "719 , 221\n",
      "768 , 319\n",
      "768 , 414\n",
      "706 , 496\n",
      "531 , 501\n",
      "399 , 457\n",
      "293 , 431\n",
      "272 , 344\n",
      "287 , 277\n",
      "277 , 243\n",
      "399 , 330\n",
      "764 , 570\n",
      "823 , 664\n",
      "739 , 692\n",
      "916 , 767\n",
      "1035 , 631\n",
      "973 , 401\n",
      "938 , 195\n",
      "936 , 76\n",
      "1045 , 101\n",
      "1074 , 146\n",
      "903 , 124\n"
     ]
    }
   ],
   "source": [
    "# step -03, def the function \n",
    "def find_coord(event, x, y, flags,params):\n",
    "    if event==cv.EVENT_FLAG_LBUTTON:\n",
    "            \n",
    "            # letf mouse click\n",
    "            print(x,',',y)\n",
    "            #how to define or print on the same image or windows\n",
    "            font=cv.FONT_HERSHEY_PLAIN\n",
    "            cv.putText(img,str(x) +','+ str(y), (x,y), font, 1,(255,0,0))\n",
    "            #show the text on the image itself\n",
    "            cv.imshow(\"image\", img)\n",
    "# final \n",
    "if __name__==\"__main__\":\n",
    "    # read and display the image\n",
    "    img=cv.imread(\"C://Users//yasir//Desktop//Python//05.png\")\n",
    "    # display the image\n",
    "    cv.imshow(\"image\", img)\n",
    "    # setting call back function\n",
    "    cv.setMouseCallback(\"image\", find_coord)\n",
    "    cv.waitKey(0)\n",
    "    cv.destroyAllWindows()\n"
   ]
  },
  {
   "cell_type": "code",
   "execution_count": null,
   "id": "1bb4eeb8",
   "metadata": {},
   "outputs": [],
   "source": [
    "# with one click you can find the x and y values and \n",
    "# this x and y values, once you know you can crop the AOI from any image by lasy video \n",
    "# please watch all video on my yututbe channel you will know and understand the process \n",
    "# thanks for watching the videos\n",
    "# please remember me in your good prayer \n",
    "# if you have any suggestion for this channel please comments below \n",
    "# thanks for your support \n",
    "# see you in the next video soon\n",
    "# bye bye "
   ]
  }
 ],
 "metadata": {
  "kernelspec": {
   "display_name": "Python 3 (ipykernel)",
   "language": "python",
   "name": "python3"
  },
  "language_info": {
   "codemirror_mode": {
    "name": "ipython",
    "version": 3
   },
   "file_extension": ".py",
   "mimetype": "text/x-python",
   "name": "python",
   "nbconvert_exporter": "python",
   "pygments_lexer": "ipython3",
   "version": "3.9.12"
  }
 },
 "nbformat": 4,
 "nbformat_minor": 5
}
